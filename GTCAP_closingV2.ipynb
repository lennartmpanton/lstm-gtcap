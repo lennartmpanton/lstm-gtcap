{
 "cells": [
  {
   "cell_type": "code",
   "execution_count": 1,
   "metadata": {
    "ExecuteTime": {
     "end_time": "2021-03-19T05:32:56.258400Z",
     "start_time": "2021-03-19T05:32:53.405362Z"
    }
   },
   "outputs": [],
   "source": [
    "import numpy as np\n",
    "import matplotlib.pyplot as plt\n",
    "import pandas as pd\n",
    "import seaborn as sns\n",
    "import re\n",
    "\n",
    "from subprocess import check_output\n",
    "from tensorflow.keras.layers import Dense, Activation, Dropout\n",
    "from tensorflow.keras.layers import LSTM, GRU\n",
    "from tensorflow.keras.models import Sequential\n",
    "from sklearn.preprocessing import MinMaxScaler\n",
    "%matplotlib inline"
   ]
  },
  {
   "cell_type": "code",
   "execution_count": 24,
   "metadata": {
    "ExecuteTime": {
     "end_time": "2021-03-19T07:12:45.249795Z",
     "start_time": "2021-03-19T07:12:45.193048Z"
    }
   },
   "outputs": [],
   "source": [
    "\"\"\"Read the csv file\"\"\"\n",
    "df = pd.read_csv('gtcap.csv')\n",
    "df['Price'] = df['Price'].replace(',', '', regex=True)\n",
    "df['Price'] = df['Price'].apply(pd.to_numeric)"
   ]
  },
  {
   "cell_type": "code",
   "execution_count": 25,
   "metadata": {
    "ExecuteTime": {
     "end_time": "2021-03-19T07:12:46.474015Z",
     "start_time": "2021-03-19T07:12:46.464359Z"
    }
   },
   "outputs": [
    {
     "data": {
      "text/plain": [
       "(1701, 1)"
      ]
     },
     "execution_count": 25,
     "metadata": {},
     "output_type": "execute_result"
    }
   ],
   "source": [
    "prices = df.Price.values.astype('float32')\n",
    "prices = prices.reshape(1701, 1)\n",
    "scaler = MinMaxScaler(feature_range=(0, 1))\n",
    "prices = scaler.fit_transform(prices)\n",
    "prices.shape"
   ]
  },
  {
   "cell_type": "code",
   "execution_count": 4,
   "metadata": {
    "ExecuteTime": {
     "end_time": "2021-03-19T05:32:56.290440Z",
     "start_time": "2021-03-19T05:32:56.286318Z"
    }
   },
   "outputs": [
    {
     "name": "stdout",
     "output_type": "stream",
     "text": [
      "1530 171\n"
     ]
    }
   ],
   "source": [
    "train_size = int(len(prices) * 0.90)\n",
    "test_size = len(prices) - train_size\n",
    "train, test = prices[0:train_size, :], prices[train_size:len(prices), :]\n",
    "print(len(train), len(test))"
   ]
  },
  {
   "cell_type": "code",
   "execution_count": 5,
   "metadata": {
    "ExecuteTime": {
     "end_time": "2021-03-19T05:32:56.295479Z",
     "start_time": "2021-03-19T05:32:56.291871Z"
    }
   },
   "outputs": [],
   "source": [
    "def create_dataset(dataset, look_back=1):\n",
    "    dataX, dataY = [], []\n",
    "    for i in range(len(dataset)-look_back-1):\n",
    "        a = dataset[i: (i + look_back), 0]\n",
    "        dataX.append(a)\n",
    "        dataY.append(dataset[i + look_back, 0])\n",
    "    return np.array(dataX), np.array(dataY)"
   ]
  },
  {
   "cell_type": "code",
   "execution_count": 6,
   "metadata": {
    "ExecuteTime": {
     "end_time": "2021-03-19T05:32:56.303254Z",
     "start_time": "2021-03-19T05:32:56.297189Z"
    }
   },
   "outputs": [],
   "source": [
    "look_back = 7\n",
    "trainX, trainY = create_dataset(train, look_back)\n",
    "testX, testY = create_dataset(test, look_back)"
   ]
  },
  {
   "cell_type": "code",
   "execution_count": 7,
   "metadata": {
    "ExecuteTime": {
     "end_time": "2021-03-19T05:32:56.308216Z",
     "start_time": "2021-03-19T05:32:56.304869Z"
    }
   },
   "outputs": [],
   "source": [
    "trainX = np.reshape(trainX, (trainX.shape[0], 1, trainX.shape[1]))\n",
    "testX = np.reshape(testX, (testX.shape[0], 1, testX.shape[1]))"
   ]
  },
  {
   "cell_type": "markdown",
   "metadata": {},
   "source": [
    "`Three-layared LSTM model with 0.2 dropout`"
   ]
  },
  {
   "cell_type": "code",
   "execution_count": 8,
   "metadata": {
    "ExecuteTime": {
     "end_time": "2021-03-19T05:32:58.107787Z",
     "start_time": "2021-03-19T05:32:56.309650Z"
    }
   },
   "outputs": [],
   "source": [
    "model = Sequential()\n",
    "\n",
    "model.add(LSTM(units=50, input_dim=7, return_sequences=True))\n",
    "model.add(Dropout(0.2))\n",
    "\n",
    "model.add(LSTM(units=50, return_sequences = True))\n",
    "model.add(Dropout(rate = 0.2))\n",
    "\n",
    "model.add(LSTM(units=50, return_sequences=False))\n",
    "model.add(Dropout(rate=0.2))\n",
    "\n",
    "model.add(Dense(1))\n",
    "\n",
    "model.compile(optimizer='adam', loss='mean_squared_error')"
   ]
  },
  {
   "cell_type": "code",
   "execution_count": 9,
   "metadata": {
    "ExecuteTime": {
     "end_time": "2021-03-19T05:32:58.115605Z",
     "start_time": "2021-03-19T05:32:58.110366Z"
    }
   },
   "outputs": [
    {
     "name": "stdout",
     "output_type": "stream",
     "text": [
      "Model: \"sequential\"\n",
      "_________________________________________________________________\n",
      "Layer (type)                 Output Shape              Param #   \n",
      "=================================================================\n",
      "lstm (LSTM)                  (None, None, 50)          11600     \n",
      "_________________________________________________________________\n",
      "dropout (Dropout)            (None, None, 50)          0         \n",
      "_________________________________________________________________\n",
      "lstm_1 (LSTM)                (None, None, 50)          20200     \n",
      "_________________________________________________________________\n",
      "dropout_1 (Dropout)          (None, None, 50)          0         \n",
      "_________________________________________________________________\n",
      "lstm_2 (LSTM)                (None, 50)                20200     \n",
      "_________________________________________________________________\n",
      "dropout_2 (Dropout)          (None, 50)                0         \n",
      "_________________________________________________________________\n",
      "dense (Dense)                (None, 1)                 51        \n",
      "=================================================================\n",
      "Total params: 52,051\n",
      "Trainable params: 52,051\n",
      "Non-trainable params: 0\n",
      "_________________________________________________________________\n"
     ]
    }
   ],
   "source": [
    "model.summary()"
   ]
  },
  {
   "cell_type": "code",
   "execution_count": 10,
   "metadata": {
    "ExecuteTime": {
     "end_time": "2021-03-19T05:33:40.563811Z",
     "start_time": "2021-03-19T05:32:58.118654Z"
    }
   },
   "outputs": [
    {
     "name": "stdout",
     "output_type": "stream",
     "text": [
      "Epoch 1/100\n",
      "48/48 [==============================] - 5s 8ms/step - loss: 0.2717\n",
      "Epoch 2/100\n",
      "48/48 [==============================] - 0s 8ms/step - loss: 0.0151\n",
      "Epoch 3/100\n",
      "48/48 [==============================] - 0s 8ms/step - loss: 0.0097\n",
      "Epoch 4/100\n",
      "48/48 [==============================] - 0s 8ms/step - loss: 0.0092\n",
      "Epoch 5/100\n",
      "48/48 [==============================] - 0s 8ms/step - loss: 0.0072\n",
      "Epoch 6/100\n",
      "48/48 [==============================] - 0s 8ms/step - loss: 0.0072\n",
      "Epoch 7/100\n",
      "48/48 [==============================] - 0s 8ms/step - loss: 0.0060\n",
      "Epoch 8/100\n",
      "48/48 [==============================] - 0s 9ms/step - loss: 0.0066\n",
      "Epoch 9/100\n",
      "48/48 [==============================] - 0s 9ms/step - loss: 0.0056\n",
      "Epoch 10/100\n",
      "48/48 [==============================] - 0s 9ms/step - loss: 0.0052\n",
      "Epoch 11/100\n",
      "48/48 [==============================] - 0s 9ms/step - loss: 0.0046\n",
      "Epoch 12/100\n",
      "48/48 [==============================] - 0s 9ms/step - loss: 0.0042\n",
      "Epoch 13/100\n",
      "48/48 [==============================] - 0s 9ms/step - loss: 0.0040\n",
      "Epoch 14/100\n",
      "48/48 [==============================] - 0s 8ms/step - loss: 0.0042\n",
      "Epoch 15/100\n",
      "48/48 [==============================] - 0s 8ms/step - loss: 0.0042\n",
      "Epoch 16/100\n",
      "48/48 [==============================] - 0s 8ms/step - loss: 0.0044\n",
      "Epoch 17/100\n",
      "48/48 [==============================] - 0s 8ms/step - loss: 0.0038\n",
      "Epoch 18/100\n",
      "48/48 [==============================] - 0s 9ms/step - loss: 0.0037\n",
      "Epoch 19/100\n",
      "48/48 [==============================] - 0s 8ms/step - loss: 0.0040\n",
      "Epoch 20/100\n",
      "48/48 [==============================] - 0s 8ms/step - loss: 0.0040\n",
      "Epoch 21/100\n",
      "48/48 [==============================] - 0s 7ms/step - loss: 0.0034\n",
      "Epoch 22/100\n",
      "48/48 [==============================] - 0s 7ms/step - loss: 0.0032\n",
      "Epoch 23/100\n",
      "48/48 [==============================] - 0s 7ms/step - loss: 0.0034\n",
      "Epoch 24/100\n",
      "48/48 [==============================] - 0s 7ms/step - loss: 0.0035\n",
      "Epoch 25/100\n",
      "48/48 [==============================] - 0s 8ms/step - loss: 0.0031\n",
      "Epoch 26/100\n",
      "48/48 [==============================] - 0s 7ms/step - loss: 0.0035\n",
      "Epoch 27/100\n",
      "48/48 [==============================] - 0s 7ms/step - loss: 0.0029\n",
      "Epoch 28/100\n",
      "48/48 [==============================] - 0s 7ms/step - loss: 0.0033\n",
      "Epoch 29/100\n",
      "48/48 [==============================] - 0s 7ms/step - loss: 0.0036\n",
      "Epoch 30/100\n",
      "48/48 [==============================] - 0s 8ms/step - loss: 0.0031\n",
      "Epoch 31/100\n",
      "48/48 [==============================] - 0s 8ms/step - loss: 0.0028\n",
      "Epoch 32/100\n",
      "48/48 [==============================] - 0s 8ms/step - loss: 0.0028\n",
      "Epoch 33/100\n",
      "48/48 [==============================] - 0s 7ms/step - loss: 0.0033\n",
      "Epoch 34/100\n",
      "48/48 [==============================] - 0s 8ms/step - loss: 0.0029\n",
      "Epoch 35/100\n",
      "48/48 [==============================] - 0s 8ms/step - loss: 0.0027\n",
      "Epoch 36/100\n",
      "48/48 [==============================] - 0s 8ms/step - loss: 0.0029\n",
      "Epoch 37/100\n",
      "48/48 [==============================] - 0s 8ms/step - loss: 0.0027\n",
      "Epoch 38/100\n",
      "48/48 [==============================] - 0s 7ms/step - loss: 0.0026\n",
      "Epoch 39/100\n",
      "48/48 [==============================] - 0s 8ms/step - loss: 0.0027\n",
      "Epoch 40/100\n",
      "48/48 [==============================] - 0s 8ms/step - loss: 0.0025\n",
      "Epoch 41/100\n",
      "48/48 [==============================] - 0s 7ms/step - loss: 0.0025\n",
      "Epoch 42/100\n",
      "48/48 [==============================] - 0s 8ms/step - loss: 0.0025\n",
      "Epoch 43/100\n",
      "48/48 [==============================] - 0s 9ms/step - loss: 0.0024\n",
      "Epoch 44/100\n",
      "48/48 [==============================] - 0s 9ms/step - loss: 0.0024\n",
      "Epoch 45/100\n",
      "48/48 [==============================] - 0s 8ms/step - loss: 0.0025\n",
      "Epoch 46/100\n",
      "48/48 [==============================] - 0s 8ms/step - loss: 0.0026\n",
      "Epoch 47/100\n",
      "48/48 [==============================] - 0s 8ms/step - loss: 0.0028\n",
      "Epoch 48/100\n",
      "48/48 [==============================] - 0s 8ms/step - loss: 0.0025\n",
      "Epoch 49/100\n",
      "48/48 [==============================] - 0s 8ms/step - loss: 0.0022\n",
      "Epoch 50/100\n",
      "48/48 [==============================] - 0s 8ms/step - loss: 0.0022\n",
      "Epoch 51/100\n",
      "48/48 [==============================] - 0s 8ms/step - loss: 0.0024\n",
      "Epoch 52/100\n",
      "48/48 [==============================] - 0s 8ms/step - loss: 0.0022\n",
      "Epoch 53/100\n",
      "48/48 [==============================] - 0s 7ms/step - loss: 0.0021\n",
      "Epoch 54/100\n",
      "48/48 [==============================] - 0s 8ms/step - loss: 0.0020\n",
      "Epoch 55/100\n",
      "48/48 [==============================] - 0s 8ms/step - loss: 0.0022\n",
      "Epoch 56/100\n",
      "48/48 [==============================] - 0s 8ms/step - loss: 0.0020\n",
      "Epoch 57/100\n",
      "48/48 [==============================] - 0s 8ms/step - loss: 0.0021\n",
      "Epoch 58/100\n",
      "48/48 [==============================] - 0s 8ms/step - loss: 0.0021\n",
      "Epoch 59/100\n",
      "48/48 [==============================] - 0s 8ms/step - loss: 0.0020\n",
      "Epoch 60/100\n",
      "48/48 [==============================] - 0s 7ms/step - loss: 0.0019\n",
      "Epoch 61/100\n",
      "48/48 [==============================] - 0s 8ms/step - loss: 0.0021\n",
      "Epoch 62/100\n",
      "48/48 [==============================] - 0s 8ms/step - loss: 0.0018\n",
      "Epoch 63/100\n",
      "48/48 [==============================] - 0s 8ms/step - loss: 0.0023\n",
      "Epoch 64/100\n",
      "48/48 [==============================] - 0s 7ms/step - loss: 0.0019\n",
      "Epoch 65/100\n",
      "48/48 [==============================] - 0s 8ms/step - loss: 0.0019\n",
      "Epoch 66/100\n",
      "48/48 [==============================] - 0s 8ms/step - loss: 0.0019\n",
      "Epoch 67/100\n",
      "48/48 [==============================] - 0s 7ms/step - loss: 0.0018\n",
      "Epoch 68/100\n",
      "48/48 [==============================] - 0s 7ms/step - loss: 0.0019\n",
      "Epoch 69/100\n",
      "48/48 [==============================] - 0s 7ms/step - loss: 0.0019\n",
      "Epoch 70/100\n",
      "48/48 [==============================] - 0s 7ms/step - loss: 0.0019\n",
      "Epoch 71/100\n",
      "48/48 [==============================] - 0s 8ms/step - loss: 0.0021\n",
      "Epoch 72/100\n",
      "48/48 [==============================] - 0s 8ms/step - loss: 0.0018\n",
      "Epoch 73/100\n",
      "48/48 [==============================] - 0s 8ms/step - loss: 0.0017\n",
      "Epoch 74/100\n",
      "48/48 [==============================] - 0s 7ms/step - loss: 0.0019\n",
      "Epoch 75/100\n",
      "48/48 [==============================] - 0s 8ms/step - loss: 0.0018\n",
      "Epoch 76/100\n",
      "48/48 [==============================] - 0s 8ms/step - loss: 0.0016\n",
      "Epoch 77/100\n",
      "48/48 [==============================] - 0s 7ms/step - loss: 0.0018\n",
      "Epoch 78/100\n",
      "48/48 [==============================] - 0s 8ms/step - loss: 0.0016\n",
      "Epoch 79/100\n",
      "48/48 [==============================] - 0s 7ms/step - loss: 0.0017\n",
      "Epoch 80/100\n",
      "48/48 [==============================] - 0s 8ms/step - loss: 0.0017\n",
      "Epoch 81/100\n",
      "48/48 [==============================] - 0s 7ms/step - loss: 0.0019\n",
      "Epoch 82/100\n",
      "48/48 [==============================] - 0s 7ms/step - loss: 0.0017\n",
      "Epoch 83/100\n",
      "48/48 [==============================] - 0s 7ms/step - loss: 0.0017\n",
      "Epoch 84/100\n",
      "48/48 [==============================] - 0s 7ms/step - loss: 0.0017\n",
      "Epoch 85/100\n",
      "48/48 [==============================] - 0s 7ms/step - loss: 0.0017\n",
      "Epoch 86/100\n",
      "48/48 [==============================] - 0s 8ms/step - loss: 0.0017\n",
      "Epoch 87/100\n",
      "48/48 [==============================] - 0s 8ms/step - loss: 0.0015\n",
      "Epoch 88/100\n",
      "48/48 [==============================] - 0s 8ms/step - loss: 0.0016\n",
      "Epoch 89/100\n",
      "48/48 [==============================] - 0s 8ms/step - loss: 0.0016\n",
      "Epoch 90/100\n",
      "48/48 [==============================] - 0s 7ms/step - loss: 0.0016\n",
      "Epoch 91/100\n",
      "48/48 [==============================] - 0s 8ms/step - loss: 0.0015\n",
      "Epoch 92/100\n",
      "48/48 [==============================] - 0s 8ms/step - loss: 0.0018\n",
      "Epoch 93/100\n",
      "48/48 [==============================] - 0s 7ms/step - loss: 0.0016\n",
      "Epoch 94/100\n",
      "48/48 [==============================] - 0s 8ms/step - loss: 0.0019\n",
      "Epoch 95/100\n",
      "48/48 [==============================] - 0s 8ms/step - loss: 0.0016\n",
      "Epoch 96/100\n",
      "48/48 [==============================] - 0s 8ms/step - loss: 0.0014\n",
      "Epoch 97/100\n",
      "48/48 [==============================] - 0s 8ms/step - loss: 0.0017\n",
      "Epoch 98/100\n",
      "48/48 [==============================] - 0s 8ms/step - loss: 0.0016\n",
      "Epoch 99/100\n",
      "48/48 [==============================] - 0s 8ms/step - loss: 0.0015\n",
      "Epoch 100/100\n",
      "48/48 [==============================] - 0s 8ms/step - loss: 0.0016\n"
     ]
    },
    {
     "data": {
      "text/plain": [
       "<tensorflow.python.keras.callbacks.History at 0x7f266c50ddc0>"
      ]
     },
     "execution_count": 10,
     "metadata": {},
     "output_type": "execute_result"
    }
   ],
   "source": [
    "model.fit(x = trainX, y = trainY, batch_size = 32, epochs = 100)"
   ]
  },
  {
   "cell_type": "code",
   "execution_count": 11,
   "metadata": {
    "ExecuteTime": {
     "end_time": "2021-03-19T05:33:41.549197Z",
     "start_time": "2021-03-19T05:33:40.566450Z"
    }
   },
   "outputs": [],
   "source": [
    "prediction = model.predict(testX)\n",
    "prediction = scaler.inverse_transform(np.array(prediction).reshape(-1, 1))\n",
    "actual = scaler.inverse_transform(np.array(testY).reshape(-1, 1))"
   ]
  },
  {
   "cell_type": "code",
   "execution_count": 12,
   "metadata": {
    "ExecuteTime": {
     "end_time": "2021-03-19T05:33:41.554796Z",
     "start_time": "2021-03-19T05:33:41.551304Z"
    }
   },
   "outputs": [],
   "source": [
    "prediction = [x[0] for x in prediction.tolist()]\n",
    "actual = [x[0] for x in actual.tolist()]"
   ]
  },
  {
   "cell_type": "code",
   "execution_count": 40,
   "metadata": {
    "ExecuteTime": {
     "end_time": "2021-03-19T07:18:54.166861Z",
     "start_time": "2021-03-19T07:18:54.161904Z"
    }
   },
   "outputs": [],
   "source": [
    "index1 = [len(train) + x for x in range(len(test - 8))][:-8]\n"
   ]
  },
  {
   "cell_type": "code",
   "execution_count": 42,
   "metadata": {
    "ExecuteTime": {
     "end_time": "2021-03-19T07:19:20.431647Z",
     "start_time": "2021-03-19T07:19:20.194169Z"
    }
   },
   "outputs": [
    {
     "data": {
      "image/png": "[encoded data removed]",
      "text/plain": [
       "<Figure size 1080x360 with 1 Axes>"
      ]
     },
     "metadata": {
      "needs_background": "light"
     },
     "output_type": "display_data"
    }
   ],
   "source": [
    "fig, ax = plt.subplots(figsize=(15,5))\n",
    "df['Price'][:train_size].plot(ax=ax, legend=False)\n",
    "plt.plot(index1, prediction, color = 'red', label = 'LSTM Predicted price')\n",
    "plt.plot(index1, actual, color = 'blue', label = 'Real price')\n",
    "ax.set_title('GTCAP prediction (7 days lookback) using LSTM')\n",
    "ax.set_xlabel('Time')\n",
    "ax.set_ylabel('Price')\n",
    "ax.autoscale()\n",
    "ax.legend()\n",
    "plt.show()"
   ]
  },
  {
   "cell_type": "code",
   "execution_count": 14,
   "metadata": {
    "ExecuteTime": {
     "end_time": "2021-03-19T05:33:41.722812Z",
     "start_time": "2021-03-19T05:33:41.719916Z"
    }
   },
   "outputs": [],
   "source": [
    "def mae(y_true, y_pred):\n",
    "    score = np.mean(np.abs(y_true - y_pred))\n",
    "    return score\n",
    "\n",
    "def rmse(y_true, y_pred):\n",
    "    score = np.sqrt(np.mean((y_true - y_pred)**2))\n",
    "    return score"
   ]
  },
  {
   "cell_type": "code",
   "execution_count": 15,
   "metadata": {
    "ExecuteTime": {
     "end_time": "2021-03-19T05:33:41.743162Z",
     "start_time": "2021-03-19T05:33:41.724353Z"
    }
   },
   "outputs": [
    {
     "data": {
      "text/html": [
       "<div>\n",
       "<style scoped>\n",
       "    .dataframe tbody tr th:only-of-type {\n",
       "        vertical-align: middle;\n",
       "    }\n",
       "\n",
       "    .dataframe tbody tr th {\n",
       "        vertical-align: top;\n",
       "    }\n",
       "\n",
       "    .dataframe thead th {\n",
       "        text-align: right;\n",
       "    }\n",
       "</style>\n",
       "<table border=\"1\" class=\"dataframe\">\n",
       "  <thead>\n",
       "    <tr style=\"text-align: right;\">\n",
       "      <th></th>\n",
       "      <th>Deep Learning Method</th>\n",
       "      <th>Mean Absolute Error</th>\n",
       "      <th>Root Mean Squared Error</th>\n",
       "    </tr>\n",
       "  </thead>\n",
       "  <tbody>\n",
       "    <tr>\n",
       "      <th>0</th>\n",
       "      <td>LSTM</td>\n",
       "      <td>13.239486</td>\n",
       "      <td>15.863252</td>\n",
       "    </tr>\n",
       "  </tbody>\n",
       "</table>\n",
       "</div>"
      ],
      "text/plain": [
       "  Deep Learning Method  Mean Absolute Error  Root Mean Squared Error\n",
       "0                 LSTM            13.239486                15.863252"
      ]
     },
     "execution_count": 15,
     "metadata": {},
     "output_type": "execute_result"
    }
   ],
   "source": [
    "ac_pred = [actual, prediction]\n",
    "\n",
    "ac_pred1 = np.asarray(ac_pred, dtype=np.float32)\n",
    "\n",
    "cols = ['Deep Learning Method', 'Mean Absolute Error', 'Root Mean Squared Error']\n",
    "df_metrics1 = pd.DataFrame(columns=cols)\n",
    "df_metrics1.loc[0] = ['LSTM', mae(ac_pred1[0], ac_pred1[1]),\n",
    "                      rmse(ac_pred1[0], ac_pred1[1])]\n",
    "df_metrics1"
   ]
  },
  {
   "cell_type": "code",
   "execution_count": null,
   "metadata": {},
   "outputs": [],
   "source": []
  }
 ],
 "metadata": {
  "kernelspec": {
   "display_name": "Python 3",
   "language": "python",
   "name": "python3"
  },
  "language_info": {
   "codemirror_mode": {
    "name": "ipython",
    "version": 3
   },
   "file_extension": ".py",
   "mimetype": "text/x-python",
   "name": "python",
   "nbconvert_exporter": "python",
   "pygments_lexer": "ipython3",
   "version": "3.8.6"
  },
  "toc": {
   "base_numbering": 1,
   "nav_menu": {},
   "number_sections": true,
   "sideBar": true,
   "skip_h1_title": false,
   "title_cell": "Table of Contents",
   "title_sidebar": "Contents",
   "toc_cell": false,
   "toc_position": {},
   "toc_section_display": true,
   "toc_window_display": false
  }
 },
 "nbformat": 4,
 "nbformat_minor": 4
}
